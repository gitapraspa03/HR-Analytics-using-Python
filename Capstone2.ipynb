{
 "cells": [
  {
   "cell_type": "markdown",
   "metadata": {},
   "source": [
    "# **DATA UNDERSTANDING**"
   ]
  },
  {
   "cell_type": "markdown",
   "metadata": {},
   "source": [
    "## **Context**\n",
    "\n",
    "The Human Resources Analytics focus is to understand why the best and most experienced employees in the company. By the exploration of this dataset its possible to extract good insights of a problems that the Human Resource department deals daily. In many industries retain their best employees its a question of long term strategy, and can impact the companies growth or put in financial risk, mainly if the employees leave to work at the competitor.\n",
    "\n",
    "## **Database Information**\n",
    "\n",
    "Database yang dimiliki mempunyai 8 tabel, yaitu:\n",
    "- Customers     : Menyimpan informasi tentang data pelanggan/customer.\n",
    "- ```Employees```\n",
    "    - First_Name : Nama Awal Employee\n",
    "    - Last_Name : Nama Akhir Employee\n",
    "    - Salary    : Pendapatan Employee\n",
    "- ```Departments```\n",
    "    - Department_Name   : Nama Departemen\n",
    "- ```Job```\n",
    "    - Job_Title : Jabatan/ Posisi di Perushaan\n",
    "- locations\n",
    "    - State_Province : Nama Provinsi asal Employee\n",
    "- ```Countries```\n",
    "    - Country_Name : Nama negara asal Employee"
   ]
  },
  {
   "cell_type": "markdown",
   "metadata": {},
   "source": [
    "## QUESTION\n",
    "    1. Proporsi Employee di Tiap Departemen\n",
    "    2. Departemen manakah yang memiliki salary paling tinggi\n",
    "    3. Job title apa saja yang mendapatkan commission?\n",
    "    4. Dari negara manakah Employee paling banyak berasal?\n",
    "    5. Berapakah jumlah employee yang diterima setiap bulannya?\n",
    "    6. Apakah terdapat perbedaan median Salary di tiap Departemen?\n",
    "    7. Apakah terdapat hubungan Salary dengan Commission yang diperoleh?Jika ada maka bagaimana hubungan kedua variable tersebut?"
   ]
  },
  {
   "cell_type": "markdown",
   "metadata": {},
   "source": [
    "> # **DATABASE**"
   ]
  },
  {
   "cell_type": "markdown",
   "metadata": {},
   "source": [
    "## **Connecting To Database**\n",
    "\n",
    "Bagian ini merupakan langkah awal untuk mulai melakukan proses analisis data. Pertama adalah membuat koneksi ke database di mana seperti yang sudah dijelaskan sebelumnya, database yang akan digunakan adalah database ``HR Database``. Dengan melakukan koneksi ini, kita dapat mengakses seluruh tabel yang ada pada database."
   ]
  },
  {
   "cell_type": "code",
   "execution_count": 1,
   "metadata": {},
   "outputs": [
    {
     "ename": "ModuleNotFoundError",
     "evalue": "No module named 'seaborn'",
     "output_type": "error",
     "traceback": [
      "\u001b[0;31m---------------------------------------------------------------------------\u001b[0m",
      "\u001b[0;31mModuleNotFoundError\u001b[0m                       Traceback (most recent call last)",
      "Input \u001b[0;32mIn [1]\u001b[0m, in \u001b[0;36m<cell line: 5>\u001b[0;34m()\u001b[0m\n\u001b[1;32m      3\u001b[0m \u001b[38;5;28;01mimport\u001b[39;00m \u001b[38;5;21;01mpandas\u001b[39;00m \u001b[38;5;28;01mas\u001b[39;00m \u001b[38;5;21;01mpd\u001b[39;00m\n\u001b[1;32m      4\u001b[0m \u001b[38;5;28;01mimport\u001b[39;00m \u001b[38;5;21;01mnumpy\u001b[39;00m \u001b[38;5;28;01mas\u001b[39;00m \u001b[38;5;21;01mnp\u001b[39;00m\n\u001b[0;32m----> 5\u001b[0m \u001b[38;5;28;01mimport\u001b[39;00m \u001b[38;5;21;01mseaborn\u001b[39;00m \u001b[38;5;28;01mas\u001b[39;00m \u001b[38;5;21;01msns\u001b[39;00m\n\u001b[1;32m      6\u001b[0m \u001b[38;5;28;01mimport\u001b[39;00m \u001b[38;5;21;01mmatplotlib\u001b[39;00m\u001b[38;5;21;01m.\u001b[39;00m\u001b[38;5;21;01mpyplot\u001b[39;00m \u001b[38;5;28;01mas\u001b[39;00m \u001b[38;5;21;01mplt\u001b[39;00m\n\u001b[1;32m      7\u001b[0m \u001b[38;5;28;01mimport\u001b[39;00m \u001b[38;5;21;01mmysql\u001b[39;00m\u001b[38;5;21;01m.\u001b[39;00m\u001b[38;5;21;01mconnector\u001b[39;00m \u001b[38;5;28;01mas\u001b[39;00m \u001b[38;5;21;01msqlcon\u001b[39;00m\n",
      "\u001b[0;31mModuleNotFoundError\u001b[0m: No module named 'seaborn'"
     ]
    }
   ],
   "source": [
    "# Import Modules\n",
    "\n",
    "import pandas as pd\n",
    "import numpy as np\n",
    "import seaborn as sns\n",
    "import matplotlib.pyplot as plt\n",
    "import mysql.connector as sqlcon"
   ]
  },
  {
   "cell_type": "code",
   "execution_count": null,
   "metadata": {},
   "outputs": [],
   "source": [
    "# Connect To Database\n",
    "\n",
    "mydb = sqlcon.connect(\n",
    "    host = 'localhost',\n",
    "    user = 'root',\n",
    "    passwd = 'bbcu010320',\n",
    "    database = 'humanResource'\n",
    ")"
   ]
  },
  {
   "cell_type": "code",
   "execution_count": null,
   "metadata": {},
   "outputs": [],
   "source": [
    "# Query Function\n",
    "\n",
    "curs = mydb.cursor()\n",
    "\n",
    "def sql_table (query) :\n",
    "    curs.execute (query)\n",
    "    result = curs.fetchall()\n",
    "    df1 = pd.DataFrame(result, columns=curs.column_names)\n",
    "    return df1"
   ]
  },
  {
   "cell_type": "markdown",
   "metadata": {},
   "source": [
    "## **Data Detail**\n",
    "\n",
    "Data pertama ini merupakan data utama yang nantinya akan dianalisa lebih lanjut. Data ini merupakan gabungan dari 6 tabel. Masing-masing dari setiap tabel tersebut diambil beberapa kolomnya dan tidak diambil secara keseluruhan. Informasi-informasi yang dianggap penting saja lah yang diambil. Berikut tabel yang digunakan adalah:\n",
    "\n",
    "- ```Employees```\n",
    "    - First_Name\n",
    "    - Last_Name\n",
    "    - Jb_ID\n",
    "    - Salary\n",
    "    - Manager_ID\n",
    "    - Department_ID\n",
    "- ```Departments```\n",
    "    - Department_Name\n",
    "- ```Job```\n",
    "    - Job_Title\n",
    "- locations\n",
    "    - State_Province\n",
    "- ```Countries```\n",
    "    - Country_ID\n",
    "    - Country_Name\n",
    "    - Region_ID\n",
    "\n",
    "Selain dari tabel, terdapat sebuah kolom bernama Work_Period yang merupakan hasil pengurangan antara Start_Date dan End_Date. \n",
    "\n",
    "Semua informasi tersebut kemudian dijadikan dalam sebuah DataFrame yang nantinya akan diolah informasinya."
   ]
  },
  {
   "cell_type": "code",
   "execution_count": null,
   "metadata": {},
   "outputs": [],
   "source": [
    "# Query 1\n",
    "\n",
    "df1 = sql_table (\n",
    "    '''\n",
    "SELECT CONCAT(E.first_name, ' ', E.last_name) AS Employee_Name, E.Hire_Date, E.Salary, E.Commission_PCT, \n",
    "       D.Department_Name, J.Job_Title, L.State_Province, C.Country_Name\n",
    "    FROM (employees E)\n",
    "LEFT JOIN departments D ON E.department_id = D.department_id\n",
    "LEFT JOIN jobs J ON E.Job_ID = J.Job_ID\n",
    "LEFT JOIN locations L ON d.Location_ID = L.Location_ID\n",
    "LEFT JOIN countries C ON L.country_ID = C.country_ID;\n",
    "    '''\n",
    ")\n",
    "df1.head()"
   ]
  },
  {
   "cell_type": "code",
   "execution_count": null,
   "metadata": {},
   "outputs": [],
   "source": [
    "# Query 2 (Subquery)\n",
    "\n",
    "df2 = sql_table(\n",
    "    '''\n",
    "SELECT Employee_Id, First_Name, Last_Name, Salary,  \n",
    "    CASE WHEN salary >= (SELECT AVG(salary) \n",
    "FROM employees) \n",
    "    THEN 'HIGH'  \n",
    "    ELSE 'LOW'  \n",
    "    END AS Salary_Status \n",
    "FROM employees;\n",
    "    '''\n",
    ")\n",
    "\n",
    "df2"
   ]
  },
  {
   "cell_type": "code",
   "execution_count": null,
   "metadata": {},
   "outputs": [],
   "source": [
    "# Query 2 (Group By and Agg)\n",
    "df3 = sql_table(\n",
    "    '''\n",
    "SELECT d.department_name,\n",
    "       e.*\n",
    "FROM departments d\n",
    "JOIN\n",
    "  (SELECT department_id,\n",
    "  COUNT(employee_id) AS Total_Employee, \n",
    "   AVG(salary) AS Avg_Salary, \n",
    "   COUNT(commission_pct) AS Total_Commission\n",
    "FROM employees\n",
    "GROUP BY department_id) e USING (department_id);\n",
    "    '''\n",
    ")\n",
    "\n",
    "df3"
   ]
  },
  {
   "cell_type": "code",
   "execution_count": null,
   "metadata": {},
   "outputs": [],
   "source": [
    "# Query 3 (CTE / Window Function)"
   ]
  },
  {
   "cell_type": "markdown",
   "metadata": {},
   "source": [
    "# **DATA MANIPULATION**"
   ]
  },
  {
   "cell_type": "markdown",
   "metadata": {},
   "source": [
    "Seperti yang telah dijelaskan sebelumnya, data yang digunakan untuk dianalisis adalah data pada ```df1```. Sebelum melakukan analisis lebih lanjut, hal yang harus dilakukan adalah mengecek informasi serta anomali pada data. Jika memang terdapat hal-hal yang dianggap 'kotor' pada data, maka yang perlu dilakukan adalah melakukan penanganan pada bagian tersebut. Pada bagian ini, data akan 'dibersihkan', sehingga output akhir yang diharapkan adalah terdapat sebuah dataset yang bersih yang dapat dianalisis lebih lanjut dengan menampilkan visualisasi, serta melihat statistics-nya."
   ]
  },
  {
   "cell_type": "markdown",
   "metadata": {},
   "source": [
    "## **Data Anomalies**"
   ]
  },
  {
   "cell_type": "code",
   "execution_count": null,
   "metadata": {},
   "outputs": [],
   "source": [
    "# Check Info Tabel1\n",
    "df1.info()"
   ]
  },
  {
   "cell_type": "code",
   "execution_count": null,
   "metadata": {},
   "outputs": [],
   "source": [
    "# Check Missing Value Percentage\n",
    "\n",
    "df1.isnull().sum()"
   ]
  },
  {
   "cell_type": "markdown",
   "metadata": {},
   "source": [
    "General Info:\n",
    "- Terdapat 107 baris dan 8 columns\n",
    "- Non-null Count menunjukkan bahwa pada columns secara keseluruhan columns tidak memiliki data yang hilang (missing values), namun pada columns Department_Name, State_Province dan Country_Name ditemukan missing values yang masing- masing kehilangan sebanyak 1 dan 35 values.\n",
    "- Dtype menunjukkan bahwa keseluruhan data memiliki type data yaitu object\n",
    "\n"
   ]
  },
  {
   "cell_type": "markdown",
   "metadata": {},
   "source": [
    "## **Handling Anomalies**"
   ]
  },
  {
   "cell_type": "code",
   "execution_count": null,
   "metadata": {},
   "outputs": [],
   "source": [
    "hr = df1.copy()"
   ]
  },
  {
   "cell_type": "code",
   "execution_count": null,
   "metadata": {},
   "outputs": [],
   "source": [
    "hr[hr.isnull().any(axis=1)].head()"
   ]
  },
  {
   "cell_type": "markdown",
   "metadata": {},
   "source": [
    "# Missing Value in \"Country_Name\"\n",
    "- Missing Value in Country_Name shows that missing value has \"State_Province\" is Oxford\n",
    "- Based on https://en.wikipedia.org/wiki/Oxford, The United Kingdom has four states: England, Scotland, Wales and Northern Ireland. Oxford is in the county of Oxfordshire, in the state of England. So, we can assume that Oxford is part of England (United Kingdom) and could fill in column 'Country_Name' with 'United Kingdom'"
   ]
  },
  {
   "cell_type": "code",
   "execution_count": null,
   "metadata": {},
   "outputs": [],
   "source": [
    "# Remove Missing Value 1\n",
    "hr[\"Country_Name\"].fillna(\"United Kingdom\", inplace = True)"
   ]
  },
  {
   "cell_type": "code",
   "execution_count": null,
   "metadata": {},
   "outputs": [],
   "source": [
    "hr[hr.isnull().any(axis=1)].head()"
   ]
  },
  {
   "cell_type": "markdown",
   "metadata": {},
   "source": [
    "- The table shows that Kimberly Grant has job title as \"Sales Representative\", so we can assume that \"Department name\" with kind of job is \"Sales\"\n",
    "- Because of the previous explanation, for the column \"State_Province\" we could fill it with \"Oxford\""
   ]
  },
  {
   "cell_type": "code",
   "execution_count": null,
   "metadata": {},
   "outputs": [],
   "source": [
    "# Remove Missing Value 2\n",
    "\n",
    "hr['Department_Name'].fillna('Sales', inplace = True)\n",
    "hr['State_Province'].fillna('Oxford', inplace = True)"
   ]
  },
  {
   "cell_type": "code",
   "execution_count": null,
   "metadata": {},
   "outputs": [],
   "source": [
    "# Recheck Info\n",
    "\n",
    "hr.isnull().sum()"
   ]
  },
  {
   "cell_type": "markdown",
   "metadata": {},
   "source": [
    "## **Mengubah Tipe Data Yang Salah**"
   ]
  },
  {
   "cell_type": "code",
   "execution_count": null,
   "metadata": {},
   "outputs": [],
   "source": [
    "hr['Hire_Date'] = pd.to_datetime(df1['Hire_Date'])\n",
    "hr['Salary'] = pd.to_numeric(df1['Salary'])\n",
    "hr['Commission_PCT'] = pd.to_numeric(df1['Commission_PCT'])\n"
   ]
  },
  {
   "cell_type": "code",
   "execution_count": null,
   "metadata": {},
   "outputs": [],
   "source": [
    "# Recheck Info\n",
    "hr.info()"
   ]
  },
  {
   "cell_type": "markdown",
   "metadata": {},
   "source": [
    "## **Data Duplicate**\n",
    "\n",
    "Anomali berikutnya yang bisa ditemui adalah data yang duplikat. Tentu saja data yang bersifat duplikat ini akan menjadi sesuatu hal yang akan mengganggu proses analisis data. Jika memang nantinya terdapat data yang duplikat, sebaiknya data duplikatnya dihapus dan disisakan data yang unique saja. Untuk data saat ini, melihat output di atas artinya tidak terdapat data yang duplikat. Dengan begitu tidak perlu ada action yang dilakukan."
   ]
  },
  {
   "cell_type": "code",
   "execution_count": null,
   "metadata": {},
   "outputs": [],
   "source": [
    "# Check Dupliacate\n",
    "hr[hr.duplicated()]"
   ]
  },
  {
   "cell_type": "markdown",
   "metadata": {},
   "source": [
    "### General Info Data Cleaned"
   ]
  },
  {
   "cell_type": "code",
   "execution_count": null,
   "metadata": {},
   "outputs": [],
   "source": [
    "listItem = []\n",
    "for col in hr.columns :\n",
    "    listItem.append([col, hr[col].dtype, len(hr),hr[col].isna().sum(), round((hr[col].isna().sum()/len(hr[col])) * 100,2),\n",
    "                    hr[col].nunique(), list(hr[col].drop_duplicates().values)])\n",
    "\n",
    "hrNew = pd.DataFrame(columns=['Column Name', 'Data Type', 'Data Count', 'Missing Value', \n",
    "    'Missing Value Percentage', 'Number of Unique', 'Unique Sample'],\n",
    "                     data=listItem)\n",
    "\n",
    "hrNew"
   ]
  },
  {
   "cell_type": "markdown",
   "metadata": {},
   "source": [
    "## **Data Outlier**"
   ]
  },
  {
   "cell_type": "code",
   "execution_count": null,
   "metadata": {},
   "outputs": [],
   "source": [
    "# Outlier Check With Function\n",
    "\n",
    "Q1_amount = hr['Salary'].describe()['25%']\n",
    "Q3_amount = hr['Salary'].describe()['75%']\n",
    "iqr = Q3_amount - Q1_amount\n",
    "\n",
    "outlier_index = hr[(hr['Salary'] < Q1_amount - (1.5 * iqr)) | (df1['Salary']> Q3_amount + (1.5 * iqr)) ].index\n",
    "not_outlier_index = hr[(hr['Salary'] > Q1_amount - (1.5 * iqr)) & (df1['Salary']< Q3_amount + (1.5 * iqr)) ].index\n",
    "hr.loc[outlier_index]"
   ]
  },
  {
   "cell_type": "code",
   "execution_count": null,
   "metadata": {},
   "outputs": [],
   "source": [
    "plt.style.use('seaborn')\n",
    "plt.figure(figsize=(8,5))\n",
    "sns.boxplot(x=hr['Salary'])\n",
    "plt.show()"
   ]
  },
  {
   "cell_type": "code",
   "execution_count": null,
   "metadata": {},
   "outputs": [],
   "source": [
    "plt.style.use('seaborn')\n",
    "plt.figure(figsize=(8,5))\n",
    "sns.boxplot(x=hr['Commission_PCT'])\n",
    "plt.show()"
   ]
  },
  {
   "cell_type": "markdown",
   "metadata": {},
   "source": [
    "- Boxplot is a good statistical graphic to analyze the dataset and indentify outliers values. An outlier is as observation that lies an abnormal distance from other values, in this case the analyst have to decide what is considered abnormal.\n",
    "\n",
    "- The boxplots below, give the information about the data distributions:\n",
    "    - Salary and Commission_PCT has a skewed right(positive)ditribution."
   ]
  },
  {
   "cell_type": "markdown",
   "metadata": {},
   "source": [
    "#### Handling Outliers\n",
    "- Take a look at the column for employees' \"Salary\". So, it's clearly visible 24000.0 is not in the range and it doesn't fall in between 2100k$ to 8900$. So, It indicates an outlier of this salary column.\n",
    "- We could just drop the outliers, but I want to know the overall salary without looking at the Job_Title. So, we can assume that \"President\" as ordinary Employee"
   ]
  },
  {
   "cell_type": "markdown",
   "metadata": {},
   "source": [
    "## Add New Feature"
   ]
  },
  {
   "cell_type": "markdown",
   "metadata": {},
   "source": [
    "### Salary Status\n",
    "- Create a new column to categorize employee salary levels. This column is intended to assist in further analysis. I desire to see if Salary status is affected by each employee's department. In case yes, then how big is the correlation?"
   ]
  },
  {
   "cell_type": "code",
   "execution_count": null,
   "metadata": {},
   "outputs": [],
   "source": [
    "hr['Salary_Status'] = np.where(hr['Salary'] < hr['Salary'].mean(), 'Low','High')\n",
    "hr.head()"
   ]
  },
  {
   "cell_type": "markdown",
   "metadata": {},
   "source": [
    "### Month Feature\n",
    "\n",
    "- Column \"month\" purpose to see how many employees are hired."
   ]
  },
  {
   "cell_type": "code",
   "execution_count": null,
   "metadata": {},
   "outputs": [],
   "source": [
    "hr['Month'] = pd.to_datetime(hr['Hire_Date']).dt.strftime('%B')"
   ]
  },
  {
   "cell_type": "markdown",
   "metadata": {},
   "source": [
    "# **DATA VISUALIZATION & STATISTICS**"
   ]
  },
  {
   "cell_type": "code",
   "execution_count": null,
   "metadata": {},
   "outputs": [],
   "source": [
    "import plotly.express as px\n",
    "import plotly.graph_objects as go\n",
    "from plotly.subplots import make_subplots\n",
    "\n",
    "import plotly\n",
    "from plotly import version\n",
    "print (version)\n",
    "from plotly.offline import download_plotlyjs, init_notebook_mode, plot, iplot\n",
    "init_notebook_mode(connected=True)"
   ]
  },
  {
   "cell_type": "code",
   "execution_count": null,
   "metadata": {},
   "outputs": [],
   "source": [
    "hr.columns"
   ]
  },
  {
   "cell_type": "markdown",
   "metadata": {},
   "source": [
    "### Proportion of employees in each Department"
   ]
  },
  {
   "cell_type": "code",
   "execution_count": null,
   "metadata": {},
   "outputs": [],
   "source": [
    "hr_Dept = hr.groupby(['Department_Name']).count()['Employee_Name'].reset_index()\n",
    "hr_Dept"
   ]
  },
  {
   "cell_type": "code",
   "execution_count": null,
   "metadata": {},
   "outputs": [],
   "source": [
    "fig = px.pie(hr_Dept,\n",
    "             names = 'Department_Name', \n",
    "             values= 'Employee_Name',\n",
    "             title = 'Countries by Employees')\n",
    "fig.show()"
   ]
  },
  {
   "cell_type": "markdown",
   "metadata": {},
   "source": [
    "- Based on diagram pie, we can see that the dominance of employees in the Shipping Department and the Public Relations Department has the least number of employees\n",
    "- It can be assumed that the company in question is a company concerned in delivery service"
   ]
  },
  {
   "cell_type": "markdown",
   "metadata": {},
   "source": [
    "### TOP 5 Employee with High  Salary"
   ]
  },
  {
   "cell_type": "code",
   "execution_count": null,
   "metadata": {},
   "outputs": [],
   "source": [
    "sns.barplot(\n",
    "    x='Salary',\n",
    "    y='Job_Title',\n",
    "    hue='Department_Name',\n",
    "    data=hr.nlargest(5, 'Salary'),\n",
    "    palette='RdYlBu'\n",
    ")"
   ]
  },
  {
   "cell_type": "markdown",
   "metadata": {},
   "source": [
    "- Behind every successful company, there are the effort worthy employee working. Right from lower to Hight-level management. These 5 of those employees who earns the highest salary\n",
    "    1. President\n",
    "    2. Administration Vice President (2 Employee)\n",
    "    3. Sales MAnager (2 Employee)"
   ]
  },
  {
   "cell_type": "markdown",
   "metadata": {},
   "source": [
    "### Salary vs Department"
   ]
  },
  {
   "cell_type": "code",
   "execution_count": null,
   "metadata": {},
   "outputs": [],
   "source": [
    "sns.catplot(x = 'Salary_Status', hue='Department_Name', kind ='count', height = 5, aspect=2.5, data=hr, palette='tab20c')\n",
    "plt.title(\"Salary Status per Department\", fontsize=25)"
   ]
  },
  {
   "cell_type": "markdown",
   "metadata": {},
   "source": [
    "- In the graphic Salaries by department is possible to see the distribuition of the salaries by department.\n",
    "\n",
    "    - Most of the employees of the sales department have low or high salaries\n",
    "    - Purchasing department is in the second place where most of the employees receives low and high salaries."
   ]
  },
  {
   "cell_type": "markdown",
   "metadata": {},
   "source": [
    "### Commission vs Job_Title"
   ]
  },
  {
   "cell_type": "code",
   "execution_count": null,
   "metadata": {},
   "outputs": [],
   "source": [
    "hr.groupby('Department_Name')['Commission_PCT'].value_counts()"
   ]
  },
  {
   "cell_type": "code",
   "execution_count": null,
   "metadata": {},
   "outputs": [],
   "source": [
    "sns.catplot(x = 'Commission_PCT', hue='Job_Title', kind ='count', height = 7,aspect=2.5, data=hr, palette='Set2' )\n",
    "plt.title(\"Commission by Job_Title\", fontsize=14)"
   ]
  },
  {
   "cell_type": "markdown",
   "metadata": {},
   "source": [
    "- Diagram diatas menunjukkan bahwa yang mendapatkan Commission hanya departemen Sales"
   ]
  },
  {
   "cell_type": "markdown",
   "metadata": {},
   "source": [
    "### Employee vs Country"
   ]
  },
  {
   "cell_type": "code",
   "execution_count": null,
   "metadata": {},
   "outputs": [],
   "source": [
    "hr_country = hr.groupby(['Country_Name']).count()['Department_Name'].reset_index()\n",
    "hr_country"
   ]
  },
  {
   "cell_type": "code",
   "execution_count": null,
   "metadata": {},
   "outputs": [],
   "source": [
    "fig = px.pie(hr_country,\n",
    "             names = 'Country_Name', \n",
    "             values= 'Department_Name',\n",
    "             title = 'Countries by Employees')\n",
    "fig.show()"
   ]
  },
  {
   "cell_type": "markdown",
   "metadata": {},
   "source": [
    "- Dominasi Employee pada perusahaan berasal dari United State of America dan yang paling sedikit yaitu berasal dari negara Germany"
   ]
  },
  {
   "cell_type": "markdown",
   "metadata": {},
   "source": [
    "### Jumlah Employee yang di hired tiap bulan"
   ]
  },
  {
   "cell_type": "code",
   "execution_count": null,
   "metadata": {},
   "outputs": [],
   "source": [
    "hr.sort_values(by='Month', ascending=True).groupby('Department_Name')['Month'].value_counts()"
   ]
  },
  {
   "cell_type": "code",
   "execution_count": null,
   "metadata": {},
   "outputs": [],
   "source": [
    "plt.figure(figsize=(10,5))\n",
    "sns.countplot(hr['Month'],\n",
    "            order = hr['Month'].value_counts().index)\n",
    "plt.xlabel('Month', size = 20)\n",
    "plt.ylabel('Total Employee', size = 20)\n",
    "plt.title ('Hired Employee per Month', size = 30)\n",
    "plt.show()"
   ]
  },
  {
   "cell_type": "markdown",
   "metadata": {},
   "source": [
    "## Statistics"
   ]
  },
  {
   "cell_type": "markdown",
   "metadata": {},
   "source": [
    "### Perbedaan Salary tiap Department"
   ]
  },
  {
   "cell_type": "code",
   "execution_count": null,
   "metadata": {},
   "outputs": [],
   "source": [
    "# Uji Normalitas 'Salary' yang diperoleh\n",
    "from scipy.stats import shapiro\n",
    "\n",
    "shapiro(hr['Salary'])\n",
    "\n",
    "sw_statistic, sw_pvalue = shapiro(hr['Salary'])\n",
    "\n",
    "if sw_pvalue > 0.05:\n",
    "    print(f'Terima H0 Karena P-Value: {sw_pvalue} > 5%. So, we assume a normal distribution')\n",
    "else:\n",
    "    print(f'Tolak H0 Karena P-Value {sw_pvalue} < 5%. So, we do not assume a normal distribution')"
   ]
  },
  {
   "cell_type": "code",
   "execution_count": null,
   "metadata": {},
   "outputs": [],
   "source": [
    "# Uji Perbandingan Salary yang diperoleh berdasarkan Departement\n",
    "# untuk menguji perbandingan lebih dari 2 sampel independent dalam statistik non parametrik\n",
    "\n",
    "from scipy.stats import kruskal\n",
    "\n",
    "krus, pvalkrus = kruskal(\n",
    "    hr[hr['Salary'] == 'Shipping']['Salary'],\n",
    "    hr[hr['Salary'] == 'Finance']['Salary'],\n",
    "    hr[hr['Salary'] == 'Purchasing']['Salary'],\n",
    "    hr[hr['Salary'] == 'IT']['Salary'],\n",
    "    hr[hr['Salary'] == 'Executive']['Salary'],\n",
    "    hr[hr['Salary'] == 'Marketing']['Salary'],\n",
    "    hr[hr['Salary'] == 'Accounting']['Salary'],\n",
    "    hr[hr['Salary'] == 'Administration']['Salary'],\n",
    "    hr[hr['Salary'] == 'Human Resources']['Salary'],\n",
    "    hr[hr['Salary'] == 'Public Relations']['Salary']\n",
    ") \n",
    "\n",
    "if pvalkrus > 0.05 :\n",
    "    print (f'Accept H0 Karena P-Value ({pvalkrus} > 5%)')\n",
    "    print ('Tidak Terdapat Perbedaan Nilai Median Salary pada Setiap Departement')\n",
    "else :\n",
    "    print (f'Reject H0 Karena P-Value ({pvalkrus} < 5%)')\n",
    "    print ('Terdapat Perbedaan Nilai Median Salary pada Setiap Departement')"
   ]
  },
  {
   "cell_type": "markdown",
   "metadata": {},
   "source": [
    "### Hubungan antara Salary dengan Commission"
   ]
  },
  {
   "cell_type": "code",
   "execution_count": null,
   "metadata": {},
   "outputs": [],
   "source": [
    "# First, check the correlation between two variable to decide which one method (spearman/pearson) we have to use\n",
    "\n",
    "sns.scatterplot(x = hr['Salary'], y = hr['Commission_PCT'])\n",
    "plt.show()"
   ]
  },
  {
   "cell_type": "code",
   "execution_count": null,
   "metadata": {},
   "outputs": [],
   "source": [
    "hr[['Salary', 'Commission_PCT']].corr(method='spearman')"
   ]
  },
  {
   "cell_type": "markdown",
   "metadata": {},
   "source": [
    "- Dari output di atas, diperoleh hasil bahwa kedua data tidak berdistribusi normal pada taraf signifikansi 5%. Hal ini dikarenakan p-value kedua data < 0.05. Karena kedua data tidak berdisribusi normal, maka akan digunakan uji korelasi spearman untuk mengetahui ada tidak nya korelasi antar kedua variabel.\n",
    "- Hasilnya 0.5 Positif Moderat, artinya apabila nilai \"Salary\" meningkat, nilai \"Commission_PCT\" juga meningkat"
   ]
  }
 ],
 "metadata": {
  "interpreter": {
   "hash": "aee8b7b246df8f9039afb4144a1f6fd8d2ca17a180786b69acc140d282b71a49"
  },
  "kernelspec": {
   "display_name": "Python 3 (ipykernel)",
   "language": "python",
   "name": "python3"
  },
  "language_info": {
   "codemirror_mode": {
    "name": "ipython",
    "version": 3
   },
   "file_extension": ".py",
   "mimetype": "text/x-python",
   "name": "python",
   "nbconvert_exporter": "python",
   "pygments_lexer": "ipython3",
   "version": "3.9.10"
  }
 },
 "nbformat": 4,
 "nbformat_minor": 2
}
